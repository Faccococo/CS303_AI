{
 "cells": [
  {
   "cell_type": "code",
   "execution_count": 5,
   "metadata": {},
   "outputs": [
    {
     "name": "stdout",
     "output_type": "stream",
     "text": [
      "The autoreload extension is already loaded. To reload it, use:\n",
      "  %reload_ext autoreload\n"
     ]
    }
   ],
   "source": [
    "%load_ext autoreload\n",
    "%autoreload 2\n",
    "import random\n",
    "import numpy as np\n",
    "import matplotlib.pyplot as plt\n",
    "from utils import plot_NQueens, plot_evolution"
   ]
  },
  {
   "cell_type": "code",
   "execution_count": 6,
   "metadata": {},
   "outputs": [],
   "source": [
    "# now refactor things into a *Problem* abstraction\n",
    "# you can directly reuse what you have implemented above\n",
    "from abc import ABC, abstractmethod\n",
    "\n",
    "def init_population(pop_size, gene_pool, state_length):\n",
    "    \"\"\"\n",
    "    Randomly initialize a population for genetic algorithm\n",
    "        pop_size  :  Number of individuals in population\n",
    "        gene_pool   :  List of possible values for individuals\n",
    "        state_length:  The length of each individual\n",
    "    \"\"\"\n",
    "\n",
    "    population = []\n",
    "    for _ in range(pop_size):\n",
    "        new_individual = \"\".join(random.choices(gene_pool, k=state_length))\n",
    "        population.append(new_individual)\n",
    "\n",
    "    return population\n",
    "\n",
    "class GAProblem(ABC):\n",
    "    @abstractmethod\n",
    "    def init_population(self, pop_size): pass\n",
    "\n",
    "    @abstractmethod\n",
    "    def fitness(self, sample): pass\n",
    "\n",
    "    @abstractmethod\n",
    "    def reproduce(self, population): pass\n",
    "\n",
    "    @abstractmethod\n",
    "    def replacement(self, old, new): pass\n",
    "\n",
    "\n",
    "class PhraseGeneration(GAProblem):\n",
    "    def __init__(self, target, alphabet):\n",
    "        self.target = target\n",
    "        self.alphabet = alphabet\n",
    "        self.max_fitness = len(target)\n",
    "\n",
    "    def init_population(self, pop_size):\n",
    "        # raise NotImplementedError()\n",
    "        return init_population(pop_size, self.alphabet, len(self.target))\n",
    "\n",
    "    def fitness(self, sample):\n",
    "        score = 0\n",
    "        for i in range(len(sample)):\n",
    "            if sample[i] is self.target[i]: score += 1\n",
    "        return score\n",
    "\n",
    "    def reproduce(self, population, mutation_rate):\n",
    "        \"\"\"\n",
    "        TODO: generate the next generation of population\n",
    "\n",
    "        hint: make a new individual with \n",
    "\n",
    "        mutate(recombine(*select(2, population, fitness_fn)), gene_pool, pmut)\n",
    "\n",
    "        \"\"\"\n",
    "        def select(r, population, fitness):\n",
    "            \"\"\"\n",
    "            TODO: select *r* samples from *population*\n",
    "            the simplest choice is to sample from *population* with each individual weighted by its fitness\n",
    "            \"\"\"\n",
    "            return_list = []\n",
    "\n",
    "            population_fitness = []\n",
    "            for individual in population:\n",
    "                population_fitness.append(fitness(individual))\n",
    "\n",
    "            threshold = 0\n",
    "            threshold_list = []\n",
    "            fit_sum = sum(population_fitness)\n",
    "            for i in population_fitness:\n",
    "                threshold_list.append(threshold)\n",
    "                threshold += i / fit_sum\n",
    "            threshold_list.append(1)\n",
    "            \n",
    "            # while len(return_list) < r:\n",
    "            #     temp = random.randrange(0, 10) / 10\n",
    "            #     # print(temp)\n",
    "            #     for i in range(len(population)):\n",
    "            #         if temp >= threshold_list[i] and temp <= threshold_list[i + 1]:\n",
    "            #             if population[i] in return_list:\n",
    "            #                 return_list.remove(population[i])\n",
    "            #             return_list.append(population[i])\n",
    "            #             break\n",
    "            \n",
    "            for _ in range(r):\n",
    "                temp = random.randrange(0, 10) / 10\n",
    "                # print(temp)\n",
    "                for i in range(len(population)):\n",
    "                    if temp >= threshold_list[i] and temp <= threshold_list[i + 1]:\n",
    "                        return_list.append(population[i])\n",
    "                        break\n",
    "            return return_list\n",
    "\n",
    "        def recombine(x, y):\n",
    "            \"\"\"\n",
    "            TODO: combine two parents to produce an offspring\n",
    "            \"\"\"\n",
    "            cut_off = random.randrange(0, len(self.target))\n",
    "            return x[:cut_off] + y[cut_off:]\n",
    "            \n",
    "        def mutate(x, gene_pool, pmut):\n",
    "            \"\"\"\n",
    "            apply mutation to *x* by randomly replacing one of its gene from *gene_pool*\n",
    "            \"\"\"\n",
    "            if random.uniform(0, 1) >= pmut:\n",
    "                return x\n",
    "\n",
    "            n = len(x)\n",
    "            g = len(gene_pool)\n",
    "            c = random.randrange(0, n)\n",
    "            r = random.randrange(0, g)\n",
    "\n",
    "            new_gene = gene_pool[r]\n",
    "            return x[:c] + new_gene + x[c + 1:]\n",
    "\n",
    "        return_list = []\n",
    "        for i in range(len(population)):\n",
    "            return_list.append(mutate(\\\n",
    "                        recombine(*select(2, population, self.fitness)), \\\n",
    "                        self.alphabet, mutation_rate))\n",
    "        return return_list\n",
    "        \n",
    "\n",
    "    def replacement(self, old, new, fitness):\n",
    "        \"\"\"\n",
    "        You can use your own strategy, for example retain some solutions from the old population\n",
    "        \"\"\"\n",
    "        # cut_off = random.randrange(0, len(target))\n",
    "        # cut_off = int(0.2 * len(target))\n",
    "        # new = old[:cut_off] + new[cut_off:]\n",
    "        # new = new[cut_off:]\n",
    "        # while len(new) < len(self.target):\n",
    "        #     new_individual = \"\".join(random.choices(gene_pool, k = len(self.target)))\n",
    "        #     new.append(new_individual)\n",
    "\n",
    "        All = old + new\n",
    "        All = sorted(All, key=lambda t: -fitness(t))\n",
    "        return All[:len(old)]\n",
    "\n",
    "def genetic_algorithm(\n",
    "    problem: GAProblem,\n",
    "    ngen, n_init_size, mutation_rate,\n",
    "    log_intervel=100\n",
    "):\n",
    "\n",
    "    population = problem.init_population(n_init_size)\n",
    "    best = max(population, key=problem.fitness)\n",
    "    history = [(0, list(map(problem.fitness, population)))]\n",
    "\n",
    "    for gen in range(ngen):\n",
    "        next_gen = problem.reproduce(population, mutation_rate)\n",
    "        population = problem.replacement(population, next_gen, problem.fitness)\n",
    "\n",
    "        if gen % log_intervel == 0:\n",
    "            current_best = max(population, key=problem.fitness)\n",
    "            if problem.fitness(current_best) > problem.fitness(best):\n",
    "                best = current_best\n",
    "            print(\n",
    "                f\"Generation: {gen}/{ngen},\\tBest: {best},\\tFitness={problem.fitness(best)}\")\n",
    "            history.append((gen, list(map(problem.fitness, population))))\n",
    "\n",
    "    history.append((ngen-1, list(map(problem.fitness, population))))\n",
    "    return best, history\n",
    "\n",
    "def genetic_algorithm_to_goal(\n",
    "    problem: GAProblem,\n",
    "    goal, n_init_size, mutation_rate,\n",
    "    log_intervel=100\n",
    "):\n",
    "\n",
    "    population = problem.init_population(n_init_size)\n",
    "    best = max(population, key=problem.fitness)\n",
    "    history = [(0, list(map(problem.fitness, population)))]\n",
    "\n",
    "    gen = 0\n",
    "    while problem.fitness(best) < goal:\n",
    "        next_gen = problem.reproduce(population, mutation_rate)\n",
    "        population = problem.replacement(population, next_gen, problem.fitness)\n",
    "\n",
    "        if gen % log_intervel == 0:\n",
    "            current_best = max(population, key=problem.fitness)\n",
    "            if problem.fitness(current_best) > problem.fitness(best):\n",
    "                best = current_best\n",
    "            print(\n",
    "                f\"Generation: {gen}, \\tBest: {best},\\tFitness={problem.fitness(best)}\")\n",
    "            history.append((gen, list(map(problem.fitness, population))))\n",
    "        gen += 1\n",
    "\n",
    "    history.append((gen-1, list(map(problem.fitness, population))))\n",
    "    return best, history"
   ]
  },
  {
   "cell_type": "code",
   "execution_count": 7,
   "metadata": {},
   "outputs": [
    {
     "name": "stdout",
     "output_type": "stream",
     "text": [
      "Generation: 0, \tBest: GA3VI0BWSjp1W2L5Ylp7 lXPf821n,\tFitness=3\n",
      "Generation: 100, \tBest: GeeetycRAf4HYitjn b7 12X1221n,\tFitness=16\n",
      "Generation: 200, \tBest: GenetycRAl4HYithm b7 12X12210,\tFitness=21\n",
      "Generation: 300, \tBest: Genetic Al4Hrithm by 12012710,\tFitness=27\n",
      "Generation: 400, \tBest: Genetic Algorithm by 12012710,\tFitness=29\n"
     ]
    },
    {
     "data": {
      "text/plain": [
       "'Genetic Algorithm by 12012710'"
      ]
     },
     "execution_count": 7,
     "metadata": {},
     "output_type": "execute_result"
    }
   ],
   "source": [
    "# now set up the parameters\n",
    "ngen = 2400\n",
    "max_population = 60\n",
    "mutation_rate = 0.2\n",
    "\n",
    "sid = 12012710  # TODO:  replace this with your own sid\n",
    "target = f\"Genetic Algorithm by {sid}\"\n",
    "u_case = [chr(x) for x in range(65, 91)]\n",
    "l_case = [chr(x) for x in range(97, 123)]\n",
    "alphabet = u_case + l_case + [' '] + [str(a) for a in range(0, 10)] \n",
    "# TODO: fix this: what is the search space now?\n",
    "\n",
    "problem = PhraseGeneration(target, alphabet)\n",
    "goal = len(target)\n",
    "# and run it\n",
    "# solution, history = genetic_algorithm(\n",
    "#     problem, ngen, max_population, mutation_rate)\n",
    "solution, history = genetic_algorithm_to_goal(\n",
    "    problem, goal, max_population, mutation_rate)\n",
    "solution\n"
   ]
  },
  {
   "cell_type": "code",
   "execution_count": 8,
   "metadata": {},
   "outputs": [
    {
     "data": {
      "image/png": "[encoded data removed]",
      "text/plain": [
       "<Figure size 360x1512 with 7 Axes>"
      ]
     },
     "metadata": {
      "needs_background": "light"
     },
     "output_type": "display_data"
    },
    {
     "data": {
      "text/plain": [
       "array([ 0.,  1.,  2.,  3.,  4.,  5.,  6.,  7.,  8.,  9., 10., 11., 12.,\n",
       "       13., 14., 15., 16., 17., 18., 19., 20., 21., 22., 23., 24., 25.,\n",
       "       26., 27., 28., 29.])"
      ]
     },
     "execution_count": 8,
     "metadata": {},
     "output_type": "execute_result"
    }
   ],
   "source": [
    "# visualize the evolution of the polulation\n",
    "bins = np.linspace(0, problem.max_fitness, problem.max_fitness + 1)\n",
    "plot_evolution(history, bins)\n",
    "bins\n"
   ]
  },
  {
   "cell_type": "code",
   "execution_count": null,
   "metadata": {},
   "outputs": [],
   "source": []
  }
 ],
 "metadata": {
  "kernelspec": {
   "display_name": "Python 3.9.12 ('base')",
   "language": "python",
   "name": "python3"
  },
  "language_info": {
   "codemirror_mode": {
    "name": "ipython",
    "version": 3
   },
   "file_extension": ".py",
   "mimetype": "text/x-python",
   "name": "python",
   "nbconvert_exporter": "python",
   "pygments_lexer": "ipython3",
   "version": "3.9.12"
  },
  "orig_nbformat": 4,
  "vscode": {
   "interpreter": {
    "hash": "9cc3e8438eca74874e19e7b4d45f101f2df8b6a84936bd45a4455d5fbb915a84"
   }
  }
 },
 "nbformat": 4,
 "nbformat_minor": 2
}
