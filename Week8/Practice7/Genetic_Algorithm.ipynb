{
 "cells": [
  {
   "cell_type": "code",
   "execution_count": null,
   "metadata": {
    "pycharm": {
     "name": "#%%\n"
    }
   },
   "outputs": [],
   "source": [
    "%load_ext autoreload\n",
    "%autoreload 2\n",
    "import random\n",
    "import numpy as np\n",
    "import matplotlib.pyplot as plt\n",
    "from utils import plot_NQueens, plot_evolution"
   ]
  },
  {
   "cell_type": "markdown",
   "metadata": {
    "pycharm": {
     "name": "#%% md\n"
    }
   },
   "source": [
    "# Local Search: Genetic Algorithm\n",
    "\n",
    "## 1.Genrating Phrases\n",
    "\n",
    "In this section we consider a toy problem: generating a target phrases (e.g. \"genetic algorithm\") from an initial polupation of random strings. Assume the length of the target is known.\n",
    "\n",
    "Problem Formulation: \n",
    "\n",
    "1. Direct Representation: just strings.\n",
    "2. Exponential Search Space: $m^l$ where $m$ is the size of the alphabet (set of characters in our interest) and $l$ is the length of the string.\n",
    "\n",
    "Now that we want to solve it with GA:\n",
    "1. Chromesome: directly use the string itself.\n",
    "2. Fitness: how match/close an individual is to the target.\n",
    "3. Mating: combine two strings in someway to generate a new one.\n",
    "\n",
    "The following cells will walk you through this problem to show the basic idea of GA"
   ]
  },
  {
   "cell_type": "code",
   "execution_count": null,
   "metadata": {
    "pycharm": {
     "name": "#%%\n"
    }
   },
   "outputs": [],
   "source": [
    "# setting up the problem\n",
    "target = 'Genetic Algorithm'\n",
    "u_case = [chr(x) for x in range(65, 91)]\n",
    "l_case = [chr(x) for x in range(97, 123)]\n",
    "gene_pool = u_case + l_case + [' ']  # all English chracters and white space\n",
    "\n",
    "\n",
    "def init_population(pop_size, gene_pool, state_length):\n",
    "    \"\"\"\n",
    "    Randomly initialize a population for genetic algorithm\n",
    "        pop_size  :  Number of individuals in population\n",
    "        gene_pool   :  List of possible values for individuals\n",
    "        state_length:  The length of each individual\n",
    "    \"\"\"\n",
    "\n",
    "    population = []\n",
    "    for _ in range(pop_size):\n",
    "        new_individual = \"\".join(random.choices(gene_pool, k=state_length))\n",
    "        population.append(new_individual)\n",
    "\n",
    "    return population\n",
    "\n",
    "\n",
    "# test\n",
    "init_pop = init_population(10, gene_pool, len(target))\n",
    "init_pop\n"
   ]
  },
  {
   "cell_type": "code",
   "execution_count": null,
   "metadata": {
    "pycharm": {
     "name": "#%%\n"
    }
   },
   "outputs": [],
   "source": [
    "def fitness_fn(sample):\n",
    "    score = 0\n",
    "    for i in range(len(sample)):\n",
    "        if sample[i] is target[i]: score += 1\n",
    "    # score -= len(sample) - len(target)\n",
    "    return score\n",
    "# test\n",
    "fitness_fn(init_pop[0])"
   ]
  },
  {
   "cell_type": "code",
   "execution_count": null,
   "metadata": {
    "pycharm": {
     "name": "#%%\n"
    }
   },
   "outputs": [],
   "source": [
    "def select(r, population, fitness_fn):\n",
    "    \"\"\"\n",
    "    TODO: select *r* samples from *population*\n",
    "    the simplest choice is to sample from *population* with each individual weighted by its fitness\n",
    "    \"\"\"\n",
    "    return_list = []\n",
    "\n",
    "    population_fitness = []\n",
    "    for individual in population:\n",
    "        population_fitness.append(fitness_fn(individual))\n",
    "\n",
    "    threshold = 0\n",
    "    threshold_list = []\n",
    "    fit_sum = sum(population_fitness)\n",
    "    for i in population_fitness:\n",
    "        threshold_list.append(threshold)\n",
    "        threshold += i / (fit_sum + 1e-7)\n",
    "    threshold_list.append(1)\n",
    "    \n",
    "    for _ in range(r):\n",
    "        temp = random.randrange(0, 10) / 10\n",
    "        print(temp)\n",
    "        for i in range(len(population)):\n",
    "            if temp >= threshold_list[i] and temp <= threshold_list[i + 1]:\n",
    "                return_list.append(population[i])\n",
    "                break\n",
    "    return return_list\n",
    "\n",
    "# test\n",
    "parents = select(2, init_pop, fitness_fn)\n",
    "parents\n"
   ]
  },
  {
   "cell_type": "code",
   "execution_count": null,
   "metadata": {
    "pycharm": {
     "name": "#%%\n"
    }
   },
   "outputs": [],
   "source": [
    "def recombine(x, y):\n",
    "    \"\"\"\n",
    "    TODO: combine two parents to produce an offspring\n",
    "    \"\"\"\n",
    "    cut_off = random.randrange(0, len(target))\n",
    "    return x[:cut_off] + y[cut_off:]\n",
    "    \n",
    "def mutate(x, gene_pool, pmut):\n",
    "    \"\"\"\n",
    "    apply mutation to *x* by randomly replacing one of its gene from *gene_pool*\n",
    "    \"\"\"\n",
    "    if random.uniform(0, 1) >= pmut:\n",
    "        return x\n",
    "\n",
    "    n = len(x)\n",
    "    g = len(gene_pool)\n",
    "    c = random.randrange(0, n)\n",
    "    r = random.randrange(0, g)\n",
    "\n",
    "    new_gene = gene_pool[r]\n",
    "    return x[:c] + new_gene + x[c + 1:]\n",
    "\n",
    "# test\n",
    "child = mutate(recombine(*parents), gene_pool, 0.1)\n",
    "child"
   ]
  },
  {
   "cell_type": "code",
   "execution_count": null,
   "metadata": {
    "pycharm": {
     "name": "#%%\n"
    }
   },
   "outputs": [],
   "source": [
    "# now refactor things into a *Problem* abstraction\n",
    "# you can directly reuse what you have implemented above\n",
    "from abc import ABC, abstractmethod\n",
    "\n",
    "class GAProblem(ABC):\n",
    "    @abstractmethod\n",
    "    def init_population(self, pop_size): pass\n",
    "\n",
    "    @abstractmethod\n",
    "    def fitness(self, sample): pass\n",
    "\n",
    "    @abstractmethod\n",
    "    def reproduce(self, population): pass\n",
    "\n",
    "    @abstractmethod\n",
    "    def replacement(self, old, new): pass\n",
    "\n",
    "class PhraseGeneration(GAProblem):\n",
    "    def __init__(self, target, alphabet):\n",
    "        self.target = target\n",
    "        self.alphabet = alphabet\n",
    "        self.max_fitness = len(target)\n",
    "\n",
    "    def init_population(self, pop_size):\n",
    "        # raise NotImplementedError()\n",
    "        return init_population(pop_size, self.alphabet, len(self.target))\n",
    "\n",
    "    def fitness(self, sample):\n",
    "        score = 0\n",
    "        for i in range(len(sample)):\n",
    "            if sample[i] is self.target[i]: score += 1\n",
    "        return score\n",
    "\n",
    "    def reproduce(self, population, mutation_rate):\n",
    "        \"\"\"\n",
    "        TODO: generate the next generation of population\n",
    "\n",
    "        hint: make a new individual with \n",
    "\n",
    "        mutate(recombine(*select(2, population, fitness_fn)), gene_pool, pmut)\n",
    "\n",
    "        \"\"\"\n",
    "        def select(r, population, fitness):\n",
    "            \"\"\"\n",
    "            TODO: select *r* samples from *population*\n",
    "            the simplest choice is to sample from *population* with each individual weighted by its fitness\n",
    "            \"\"\"\n",
    "            return_list = []\n",
    "\n",
    "            population_fitness = []\n",
    "            for individual in population:\n",
    "                population_fitness.append(fitness(individual))\n",
    "\n",
    "            threshold = 0\n",
    "            threshold_list = []\n",
    "            fit_sum = sum(population_fitness)\n",
    "            for i in population_fitness:\n",
    "                threshold_list.append(threshold)\n",
    "                threshold += i / fit_sum\n",
    "            threshold_list.append(1)\n",
    "            \n",
    "            # while len(return_list) < r:\n",
    "            #     temp = random.randrange(0, 10) / 10\n",
    "            #     # print(temp)\n",
    "            #     for i in range(len(population)):\n",
    "            #         if temp >= threshold_list[i] and temp <= threshold_list[i + 1]:\n",
    "            #             if population[i] in return_list:\n",
    "            #                 return_list.remove(population[i])\n",
    "            #             return_list.append(population[i])\n",
    "            #             break\n",
    "            \n",
    "            for _ in range(r):\n",
    "                temp = random.randrange(0, 10) / 10\n",
    "                # print(temp)\n",
    "                for i in range(len(population)):\n",
    "                    if temp >= threshold_list[i] and temp <= threshold_list[i + 1]:\n",
    "                        return_list.append(population[i])\n",
    "                        break\n",
    "            return return_list\n",
    "\n",
    "        def recombine(x, y):\n",
    "            \"\"\"\n",
    "            TODO: combine two parents to produce an offspring\n",
    "            \"\"\"\n",
    "            cut_off = random.randrange(0, len(target))\n",
    "            return x[:cut_off] + y[cut_off:]\n",
    "            \n",
    "        def mutate(x, gene_pool, pmut):\n",
    "            \"\"\"\n",
    "            apply mutation to *x* by randomly replacing one of its gene from *gene_pool*\n",
    "            \"\"\"\n",
    "            if random.uniform(0, 1) >= pmut:\n",
    "                return x\n",
    "\n",
    "            n = len(x)\n",
    "            g = len(gene_pool)\n",
    "            c = random.randrange(0, n)\n",
    "            r = random.randrange(0, g)\n",
    "\n",
    "            new_gene = gene_pool[r]\n",
    "            return x[:c] + new_gene + x[c + 1:]\n",
    "\n",
    "        return_list = []\n",
    "        for i in range(len(population)):\n",
    "            return_list.append(mutate(\\\n",
    "                        recombine(*select(2, population, self.fitness)), \\\n",
    "                        self.gene_pool, mutation_rate))\n",
    "        return return_list\n",
    "        \n",
    "\n",
    "    def replacement(self, old, new, fitness):\n",
    "        \"\"\"\n",
    "        You can use your own strategy, for example retain some solutions from the old population\n",
    "        \"\"\"\n",
    "        # cut_off = random.randrange(0, len(target))\n",
    "        # cut_off = int(0.2 * len(target))\n",
    "        # new = old[:cut_off] + new[cut_off:]\n",
    "        # new = new[cut_off:]\n",
    "        # while len(new) < len(self.target):\n",
    "        #     new_individual = \"\".join(random.choices(gene_pool, k = len(self.target)))\n",
    "        #     new.append(new_individual)\n",
    "\n",
    "        All = old + new\n",
    "        All = sorted(All, key=lambda t: -fitness(t))\n",
    "        return All[:len(target)]\n",
    "\n",
    "def genetic_algorithm(\n",
    "    problem: GAProblem,\n",
    "    ngen, n_init_size, mutation_rate,\n",
    "    log_intervel=100\n",
    "):\n",
    "\n",
    "    population = problem.init_population(n_init_size)\n",
    "    best = max(population, key=problem.fitness)\n",
    "    history = [(0, list(map(problem.fitness, population)))]\n",
    "\n",
    "    for gen in range(ngen):\n",
    "        next_gen = problem.reproduce(population, mutation_rate)\n",
    "        population = problem.replacement(population, next_gen, problem.fitness)\n",
    "\n",
    "        if gen % log_intervel == 0:\n",
    "            current_best = max(population, key=problem.fitness)\n",
    "            if problem.fitness(current_best) > problem.fitness(best):\n",
    "                best = current_best\n",
    "            print(\n",
    "                f\"Generation: {gen}/{ngen},\\tBest: {best},\\tFitness={problem.fitness(best)}\")\n",
    "            history.append((gen, list(map(problem.fitness, population))))\n",
    "\n",
    "    history.append((ngen-1, list(map(problem.fitness, population))))\n",
    "    return best, history"
   ]
  },
  {
   "cell_type": "code",
   "execution_count": null,
   "metadata": {
    "pycharm": {
     "name": "#%%\n"
    }
   },
   "outputs": [],
   "source": [
    "# now set up the parameters\n",
    "ngen = 12000\n",
    "max_population = 120\n",
    "mutation_rate = 0.2\n",
    "\n",
    "sid = 12012710  # TODO:  replace this with your own sid\n",
    "target = f\"Genetic Algorithm by {sid}\"\n",
    "u_case = [chr(x) for x in range(65, 91)]\n",
    "l_case = [chr(x) for x in range(97, 123)]\n",
    "alphabet = u_case + l_case + [' '] + [str(a) for a in range(0, 10)] \n",
    "# TODO: fix this: what is the search space now?\n",
    "\n",
    "problem = PhraseGeneration(target, alphabet)\n",
    "\n",
    "# and run it\n",
    "solution, history = genetic_algorithm(\n",
    "    problem, ngen, max_population, mutation_rate)\n",
    "solution\n"
   ]
  },
  {
   "cell_type": "code",
   "execution_count": null,
   "metadata": {
    "pycharm": {
     "name": "#%%\n"
    }
   },
   "outputs": [],
   "source": [
    "# visualize the evolution of the polulation\n",
    "bins = np.linspace(0, problem.max_fitness, problem.max_fitness + 1)\n",
    "plot_evolution(history, bins)\n",
    "bins\n"
   ]
  },
  {
   "cell_type": "markdown",
   "metadata": {
    "pycharm": {
     "name": "#%% md\n"
    }
   },
   "source": [
    "## 2. N-Queens Problem\n",
    "\n",
    "It is possible to solve the N-Queens problem with slight modifications.\n",
    "\n",
    "For the problem:\n",
    "\n",
    "1. Direct Representation: placement of queens.\n",
    "2. Search Space: $n^n$, if we don't use any constraints.\n",
    "\n",
    "To use GA:\n",
    "\n",
    "Actually a new fitness function is the minimum modification you need for this problem.\n",
    "\n",
    "Others are alomost the same as the previous problem."
   ]
  },
  {
   "cell_type": "code",
   "execution_count": null,
   "metadata": {
    "pycharm": {
     "name": "#%%\n"
    }
   },
   "outputs": [],
   "source": [
    "class NQueensProblem(GAProblem):\n",
    "    def __init__(self, n):\n",
    "        self.n = n\n",
    "        self.max_fitness = n*(n-1)//2  # max number if non-attacking pairs\n",
    "\n",
    "    def init_population(self, pop_size):\n",
    "        # TODO:alomost the same as the previous problem.\n",
    "        raise NotImplementedError()\n",
    "\n",
    "    def fitness(self, queens):\n",
    "        \"\"\"\n",
    "        TODO\n",
    "\n",
    "        hint: count the non-attacking pairs\n",
    "        \"\"\"\n",
    "        raise NotImplementedError()\n",
    "\n",
    "    def reproduce(self, population, mutation_rate):\n",
    "        # TODO:alomost the same as the previous problem.\n",
    "        raise NotImplementedError()\n",
    "\n",
    "    def replacement(self, old, new):\n",
    "        \"\"\"\n",
    "        You can use your own strategy, for example retain some solutions from the old population\n",
    "        \"\"\"\n",
    "        return new\n",
    "\n",
    "    def __repr__(self):\n",
    "        return f\"{self.n}-Queens Problem\"\n"
   ]
  },
  {
   "cell_type": "code",
   "execution_count": null,
   "metadata": {
    "pycharm": {
     "name": "#%%\n"
    }
   },
   "outputs": [],
   "source": [
    "from utils import plot_NQueens\n",
    "ngen = 1000\n",
    "init_size = 120\n",
    "mutation_rate = 0.08\n",
    "\n",
    "n = 8\n",
    "problem = NQueensProblem(n)\n",
    "solution, history = genetic_algorithm(problem, ngen, init_size, mutation_rate)\n"
   ]
  },
  {
   "cell_type": "code",
   "execution_count": null,
   "metadata": {
    "pycharm": {
     "name": "#%%\n"
    }
   },
   "outputs": [],
   "source": [
    "# Example of how to use this function\n",
    "# plot_NQueens([4, 2, 0, 6, 1, 7, 5, 3])\n",
    "# replace the parameter with your own results\n",
    "plot_NQueens(solution)\n"
   ]
  },
  {
   "cell_type": "code",
   "execution_count": null,
   "metadata": {
    "pycharm": {
     "name": "#%%\n"
    }
   },
   "outputs": [],
   "source": [
    "# Visualize the evolution of the polulation\n",
    "bins = np.linspace(0, problem.max_fitness, problem.max_fitness)\n",
    "plot_evolution(history, bins)\n"
   ]
  }
 ],
 "metadata": {
  "kernelspec": {
   "display_name": "Python 3.9.12 ('base')",
   "language": "python",
   "name": "python3"
  },
  "language_info": {
   "codemirror_mode": {
    "name": "ipython",
    "version": 3
   },
   "file_extension": ".py",
   "mimetype": "text/x-python",
   "name": "python",
   "nbconvert_exporter": "python",
   "pygments_lexer": "ipython3",
   "version": "3.9.12"
  },
  "vscode": {
   "interpreter": {
    "hash": "9cc3e8438eca74874e19e7b4d45f101f2df8b6a84936bd45a4455d5fbb915a84"
   }
  }
 },
 "nbformat": 4,
 "nbformat_minor": 2
}
