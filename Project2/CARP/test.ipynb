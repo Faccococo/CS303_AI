{
 "cells": [
  {
   "cell_type": "code",
   "execution_count": 1,
   "metadata": {},
   "outputs": [],
   "source": [
    "import numpy as np\n",
    "import sys\n",
    "from utils import floyd"
   ]
  },
  {
   "cell_type": "code",
   "execution_count": 4,
   "metadata": {},
   "outputs": [
    {
     "data": {
      "text/plain": [
       "8"
      ]
     },
     "execution_count": 4,
     "metadata": {},
     "output_type": "execute_result"
    }
   ],
   "source": [
    "def add_edge(A, i, j, value):\n",
    "    A[i,j] = value\n",
    "    A[j,i] = value\n",
    "\n",
    "INT_MAX = 2147483647\n",
    "A = np.full((6,6),INT_MAX)\n",
    "add_edge(A, 0, 2, 3)\n",
    "add_edge(A, 0, 1, 2)\n",
    "add_edge(A, 0, 3, 7)\n",
    "add_edge(A, 3, 2, 4)\n",
    "add_edge(A, 1, 3, 3)\n",
    "add_edge(A, 1, 4, 4)\n",
    "add_edge(A, 4, 5, 5)\n",
    "add_edge(A, 3, 5, 3)\n",
    "A = floyd(A)\n",
    "A[0,5]"
   ]
  }
 ],
 "metadata": {
  "kernelspec": {
   "display_name": "Python 3.8.10 64-bit",
   "language": "python",
   "name": "python3"
  },
  "language_info": {
   "codemirror_mode": {
    "name": "ipython",
    "version": 3
   },
   "file_extension": ".py",
   "mimetype": "text/x-python",
   "name": "python",
   "nbconvert_exporter": "python",
   "pygments_lexer": "ipython3",
   "version": "3.8.10"
  },
  "orig_nbformat": 4,
  "vscode": {
   "interpreter": {
    "hash": "916dbcbb3f70747c44a77c7bcd40155683ae19c65e1c03b4aa3499c5328201f1"
   }
  }
 },
 "nbformat": 4,
 "nbformat_minor": 2
}
