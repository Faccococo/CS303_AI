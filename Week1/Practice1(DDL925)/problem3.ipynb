{
 "cells": [
  {
   "cell_type": "markdown",
   "metadata": {},
   "source": [
    "### Snake: Simulate a snake game and print the game results.\n",
    "\n",
    "You are given a map that ‘x’ represents a rock, ‘-’represents a space, ‘#’represents the body of snake. ‘@’represent the head of the snake and a sequence of actions that ‘0,1,2,3’represent to move to up/down/left/right correspondingly for one step.\n",
    "A greedy snake starts in the map state and moves one step per unit of time according to the sequence of actions until all actions complete or fail. It will fail when the head and the stone overlap, the head goes beyond the boundary, or the head overlaps the body. \n",
    "\n",
    "#### Input\n",
    "A matrix with type char (the map). \n",
    "A sequence with type int (the motions). \n",
    "\n",
    "#### Output\n",
    "the the result of the game:\n",
    "If it failed, output the running time of the game.\n",
    "It it didn’t fail, output the final position of the head (in the form “%d, %d”)."
   ]
  },
  {
   "cell_type": "markdown",
   "metadata": {},
   "source": [
    "\"\"\"\n",
    "Example:\n",
    "input:\n",
    "map:\n",
    "---------\n",
    "------x--\n",
    "-x-------\n",
    "---@-----\n",
    "---##----\n",
    "------x--\n",
    "--x----x-\n",
    "-x-------\n",
    "---------\n",
    "action:\n",
    "0 0 3 3 0 3 3 1 1 1 1 1 3 1 1 2 2 2 2 2\n",
    "上上右右上右右 下下下下下右下下 左左左左左\n",
    "output:\n",
    "7 3\n",
    "\"\"\""
   ]
  },
  {
   "cell_type": "code",
   "execution_count": 1,
   "metadata": {
    "pycharm": {
     "name": "#%%\n"
    }
   },
   "outputs": [],
   "source": [
    "# add your code here\n",
    "\n",
    "class Node:\n",
    "    def __init__(self, x, y):\n",
    "        self.x = x\n",
    "        self.y = y\n",
    "\n",
    "\n",
    "def findHead(map):\n",
    "    for i in range(len(map)):\n",
    "        for j in range(len(map[i])):\n",
    "            if map[i][j] == '@':\n",
    "                return Node(i, j)\n",
    "\n",
    "\n",
    "def count_number(map, i, j):\n",
    "    x_list = [i-1, i+1]\n",
    "    y_list = [j-1, j+1]\n",
    "    count = 0\n",
    "    for x in x_list:\n",
    "        if x >= 0 and x < len(map) and (map[x][j] == '#' or map[x][j] == '@'):\n",
    "            count += 1\n",
    "    for y in y_list:\n",
    "        if y >= 0 and y < len(map[0]) and (map[i][y] == '#' or map[i][y] == '@'):\n",
    "            count += 1\n",
    "    return count\n",
    "\n",
    "\n",
    "def find_tail(map):\n",
    "    for i in range(len(map)):\n",
    "        for j in range(len(map[i])):\n",
    "            if map[i][j] == '#':\n",
    "                if count_number(map, i, j) <= 1:\n",
    "                    Tail = Node(i,j)\n",
    "    return Tail\n",
    "\n",
    "\n",
    "def act(map, action):\n",
    "    Head = findHead(map)\n",
    "    Tail = find_tail(map)\n",
    "    time = 0\n",
    "    for i in action:\n",
    "        # print(\"%d %d\"%(Head.x,Head.y))\n",
    "        try:\n",
    "            if i == 0:\n",
    "                if map[Head.x - 1][Head.y] == 'x' or map[Head.x - 1][Head.y] == '#':\n",
    "                    break\n",
    "                map[Head.x][Head.y] = '#'\n",
    "                map[Head.x - 1][Head.y] = '@'\n",
    "                map[Tail.x][Tail.y] = '-'\n",
    "            elif i == 1:\n",
    "                if map[Head.x + 1][Head.y] == 'x' or map[Head.x + 1][Head.y] == '#':\n",
    "                    break\n",
    "                map[Head.x][Head.y] = '#'\n",
    "                map[Head.x + 1][Head.y] = '@'\n",
    "                map[Tail.x][Tail.y] = '-'\n",
    "            elif i == 2:\n",
    "                if map[Head.x][Head.y - 1] == 'x' or map[Head.x][Head.y - 1] == '#':\n",
    "                    break\n",
    "                map[Head.x][Head.y] = '#'\n",
    "                map[Head.x][Head.y - 1] = '@'\n",
    "                map[Tail.x][Tail.y] = '-'\n",
    "            elif i == 3:\n",
    "                if map[Head.x][Head.y + 1] == 'x' or map[Head.x][Head.y + 1] == '#':\n",
    "                    break\n",
    "                map[Head.x][Head.y] = '#'\n",
    "                map[Head.x][Head.y + 1] = '@'\n",
    "                map[Tail.x][Tail.y] = '-'\n",
    "        except (IndexError):\n",
    "            break\n",
    "        time += 1\n",
    "        Head = findHead(map)\n",
    "        Tail = find_tail(map)\n",
    "        \n",
    "    if time ==len(action):\n",
    "        print(\"%d %d\"%(Head.x,Head.y))\n",
    "    else:\n",
    "      print(time)\n",
    "    \n",
    "        "
   ]
  },
  {
   "cell_type": "code",
   "execution_count": 2,
   "metadata": {
    "pycharm": {
     "name": "#%%\n"
    }
   },
   "outputs": [
    {
     "name": "stdout",
     "output_type": "stream",
     "text": [
      "[['-', '-', '-', '-', '-', '-', '-', '-', '-', '-', '-', '-', '-'], ['-', '-', '-', '-', '-', '-', 'x', '-', '-', '-', '-', '-', '-'], ['-', 'x', '-', '-', '-', '-', '-', '-', '-', '-', '-', '-', '-'], ['-', '-', '-', '@', '-', '-', '-', '-', '-', '-', 'x', '-', '-'], ['-', '-', '-', '#', '#', '#', '-', '-', '-', '-', 'x', '-', '-'], ['-', '-', '-', '-', '-', '#', '-', '-', '-', '-', 'x', '-', '-'], ['-', '-', 'x', '-', '-', '#', '-', '-', '-', '-', '-', '-', '-'], ['-', '-', '-', '#', '#', '#', '-', '-', '-', '-', '-', '-', '-'], ['-', '-', '-', '-', '-', '-', '-', '-', 'x', 'x', '-', '-', '-'], ['-', '-', '-', '-', '-', '-', '-', '-', '-', '-', '-', '-', '-']]\n",
      "[0, 3, 3, 3, 3, 1, 1, 1, 2, 2, 2, 1, 1, 3, 3, 3, 3, 3, 3, 1, 1, 2, 2, 2, 2, 0, 0, 0, 3, 3, 1, 2, 2, 2, 2, 0, 0, 0]\n",
      "32\n"
     ]
    }
   ],
   "source": [
    "# test block, you may need to modify this block.\n",
    "test_case = 4\n",
    "with open(f'test_cases/problem3/{test_case}-map.txt', 'r') as f:\n",
    "    game_map = [list(line.strip()) for line in f.readlines()]\n",
    "print(game_map)\n",
    "with open(f'test_cases/problem3/{test_case}-actions.txt', 'r') as f:\n",
    "    actions = [*map(int, f.read().split(' '))]\n",
    "print(actions)\n",
    "act(game_map,actions)"
   ]
  }
 ],
 "metadata": {
  "interpreter": {
   "hash": "6eea70d608ba4e65e3b5d32ac8522b4d78d39b471a2766e116e1911c1dde4fb7"
  },
  "kernelspec": {
   "display_name": "Python 3 (ipykernel)",
   "language": "python",
   "name": "python3"
  },
  "language_info": {
   "codemirror_mode": {
    "name": "ipython",
    "version": 3
   },
   "file_extension": ".py",
   "mimetype": "text/x-python",
   "name": "python",
   "nbconvert_exporter": "python",
   "pygments_lexer": "ipython3",
   "version": "3.9.12"
  }
 },
 "nbformat": 4,
 "nbformat_minor": 1
}
