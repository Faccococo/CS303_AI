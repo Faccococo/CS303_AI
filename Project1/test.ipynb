{
 "cells": [
  {
   "cell_type": "code",
   "execution_count": 1,
   "metadata": {},
   "outputs": [
    {
     "data": {
      "text/plain": [
       "array([[0., 0., 0., 0., 0.],\n",
       "       [0., 0., 0., 0., 0.],\n",
       "       [0., 0., 0., 0., 0.],\n",
       "       [0., 0., 0., 0., 0.],\n",
       "       [0., 0., 0., 0., 0.]])"
      ]
     },
     "execution_count": 1,
     "metadata": {},
     "output_type": "execute_result"
    }
   ],
   "source": [
    "import numpy as np\n",
    "A = np.zeros((5,5))\n",
    "A"
   ]
  },
  {
   "cell_type": "code",
   "execution_count": 2,
   "metadata": {},
   "outputs": [
    {
     "data": {
      "text/plain": [
       "array([[1., 0., 0., 0., 0.],\n",
       "       [0., 0., 0., 0., 0.],\n",
       "       [0., 0., 0., 0., 0.],\n",
       "       [0., 0., 0., 0., 0.],\n",
       "       [0., 0., 0., 0., 0.]])"
      ]
     },
     "execution_count": 2,
     "metadata": {},
     "output_type": "execute_result"
    }
   ],
   "source": [
    "def test(A):\n",
    "    A[0, 0] = 1\n",
    "test(A)\n",
    "A"
   ]
  },
  {
   "cell_type": "code",
   "execution_count": 3,
   "metadata": {},
   "outputs": [
    {
     "ename": "LinkError",
     "evalue": "Command \"E:\\SoftWare\\Visual Studio\\VC\\Tools\\MSVC\\14.33.31629\\bin\\HostX86\\x64\\link.exe /nologo /INCREMENTAL:NO /LTCG /DLL /MANIFEST:EMBED,ID=2 /MANIFESTUAC:NO /LIBPATH:e:\\SoftWare\\anaconda3\\envs\\CS303\\libs /LIBPATH:e:\\SoftWare\\anaconda3\\envs\\CS303 /LIBPATH:e:\\SoftWare\\anaconda3\\envs\\CS303\\PCbuild\\amd64 /LIBPATH:e:\\\\SoftWare\\\\anaconda3\\\\envs\\\\CS303\\\\lib\\\\site-packages\\\\numpy\\\\core\\\\lib /LIBPATH:E:\\SoftWare\\Visual Studio\\VC\\Tools\\MSVC\\14.33.31629\\ATLMFC\\lib\\x64 /LIBPATH:E:\\SoftWare\\Visual Studio\\VC\\Tools\\MSVC\\14.33.31629\\lib\\x64 /LIBPATH:C:\\Program Files (x86)\\Windows Kits\\NETFXSDK\\4.8\\lib\\um\\x64 /LIBPATH:D:\\Windows Kits\\10\\lib\\10.0.19041.0\\ucrt\\x64 /LIBPATH:D:\\Windows Kits\\10\\\\lib\\10.0.19041.0\\\\um\\x64 python39.lib msvcrt.lib npymath.lib /EXPORT:PyInit_my_module C:\\Users\\lenovo\\AppData\\Local\\Temp\\pycc-build-my_module-gb0bquyu\\my_module.cp39-win_amd64.o C:\\Users\\lenovo\\AppData\\Local\\Temp\\pycc-build-my_module-gb0bquyu\\SoftWare\\anaconda3\\envs\\CS303\\lib\\site-packages\\numba\\pycc\\modulemixin.obj C:\\Users\\lenovo\\AppData\\Local\\Temp\\pycc-build-my_module-gb0bquyu\\SoftWare\\anaconda3\\envs\\CS303\\lib\\site-packages\\numba\\cext\\dictobject.obj C:\\Users\\lenovo\\AppData\\Local\\Temp\\pycc-build-my_module-gb0bquyu\\SoftWare\\anaconda3\\envs\\CS303\\lib\\site-packages\\numba\\cext\\listobject.obj C:\\Users\\lenovo\\AppData\\Local\\Temp\\pycc-build-my_module-gb0bquyu\\SoftWare\\anaconda3\\envs\\CS303\\lib\\site-packages\\numba\\cext\\utils.obj C:\\Users\\lenovo\\AppData\\Local\\Temp\\pycc-build-my_module-gb0bquyu\\SoftWare\\anaconda3\\envs\\CS303\\lib\\site-packages\\numba\\core\\runtime\\nrt.obj /OUT:my_module.cp39-win_amd64.pyd /IMPLIB:C:\\Users\\lenovo\\AppData\\Local\\Temp\\pycc-build-my_module-gb0bquyu\\my_module.cp39-win_amd64.lib\" failed with exit status 1104",
     "output_type": "error",
     "traceback": [
      "\u001b[1;31m---------------------------------------------------------------------------\u001b[0m",
      "\u001b[1;31mDistutilsExecError\u001b[0m                        Traceback (most recent call last)",
      "File \u001b[1;32me:\\SoftWare\\anaconda3\\envs\\CS303\\lib\\site-packages\\setuptools\\_distutils\\_msvccompiler.py:519\u001b[0m, in \u001b[0;36mMSVCCompiler.link\u001b[1;34m(self, target_desc, objects, output_filename, output_dir, libraries, library_dirs, runtime_library_dirs, export_symbols, debug, extra_preargs, extra_postargs, build_temp, target_lang)\u001b[0m\n\u001b[0;32m    518\u001b[0m     log\u001b[39m.\u001b[39mdebug(\u001b[39m'\u001b[39m\u001b[39mExecuting \u001b[39m\u001b[39m\"\u001b[39m\u001b[39m%s\u001b[39;00m\u001b[39m\"\u001b[39m\u001b[39m \u001b[39m\u001b[39m%s\u001b[39;00m\u001b[39m'\u001b[39m, \u001b[39mself\u001b[39m\u001b[39m.\u001b[39mlinker, \u001b[39m'\u001b[39m\u001b[39m \u001b[39m\u001b[39m'\u001b[39m\u001b[39m.\u001b[39mjoin(ld_args))\n\u001b[1;32m--> 519\u001b[0m     \u001b[39mself\u001b[39;49m\u001b[39m.\u001b[39;49mspawn([\u001b[39mself\u001b[39;49m\u001b[39m.\u001b[39;49mlinker] \u001b[39m+\u001b[39;49m ld_args)\n\u001b[0;32m    520\u001b[0m \u001b[39mexcept\u001b[39;00m DistutilsExecError \u001b[39mas\u001b[39;00m msg:\n",
      "File \u001b[1;32me:\\SoftWare\\anaconda3\\envs\\CS303\\lib\\site-packages\\setuptools\\_distutils\\_msvccompiler.py:528\u001b[0m, in \u001b[0;36mMSVCCompiler.spawn\u001b[1;34m(self, cmd)\u001b[0m\n\u001b[0;32m    527\u001b[0m \u001b[39mwith\u001b[39;00m \u001b[39mself\u001b[39m\u001b[39m.\u001b[39m_fallback_spawn(cmd, env) \u001b[39mas\u001b[39;00m fallback:\n\u001b[1;32m--> 528\u001b[0m     \u001b[39mreturn\u001b[39;00m \u001b[39msuper\u001b[39;49m()\u001b[39m.\u001b[39;49mspawn(cmd, env\u001b[39m=\u001b[39;49menv)\n\u001b[0;32m    529\u001b[0m \u001b[39mreturn\u001b[39;00m fallback\u001b[39m.\u001b[39mvalue\n",
      "File \u001b[1;32me:\\SoftWare\\anaconda3\\envs\\CS303\\lib\\site-packages\\numpy\\distutils\\ccompiler.py:89\u001b[0m, in \u001b[0;36mreplace_method.<locals>.<lambda>\u001b[1;34m(self, *args, **kw)\u001b[0m\n\u001b[0;32m     87\u001b[0m \u001b[39mdef\u001b[39;00m \u001b[39mreplace_method\u001b[39m(klass, method_name, func):\n\u001b[0;32m     88\u001b[0m     \u001b[39m# Py3k does not have unbound method anymore, MethodType does not work\u001b[39;00m\n\u001b[1;32m---> 89\u001b[0m     m \u001b[39m=\u001b[39m \u001b[39mlambda\u001b[39;00m \u001b[39mself\u001b[39m, \u001b[39m*\u001b[39margs, \u001b[39m*\u001b[39m\u001b[39m*\u001b[39mkw: func(\u001b[39mself\u001b[39m, \u001b[39m*\u001b[39margs, \u001b[39m*\u001b[39m\u001b[39m*\u001b[39mkw)\n\u001b[0;32m     90\u001b[0m     \u001b[39msetattr\u001b[39m(klass, method_name, m)\n",
      "File \u001b[1;32me:\\SoftWare\\anaconda3\\envs\\CS303\\lib\\site-packages\\numpy\\distutils\\ccompiler.py:180\u001b[0m, in \u001b[0;36mCCompiler_spawn\u001b[1;34m(self, cmd, display, env)\u001b[0m\n\u001b[0;32m    179\u001b[0m     msg \u001b[39m=\u001b[39m \u001b[39m'\u001b[39m\u001b[39m'\u001b[39m\n\u001b[1;32m--> 180\u001b[0m \u001b[39mraise\u001b[39;00m DistutilsExecError(\u001b[39m'\u001b[39m\u001b[39mCommand \u001b[39m\u001b[39m\"\u001b[39m\u001b[39m%s\u001b[39;00m\u001b[39m\"\u001b[39m\u001b[39m failed with exit status \u001b[39m\u001b[39m%d\u001b[39;00m\u001b[39m%s\u001b[39;00m\u001b[39m'\u001b[39m \u001b[39m%\u001b[39m\n\u001b[0;32m    181\u001b[0m                         (cmd, s, msg))\n",
      "\u001b[1;31mDistutilsExecError\u001b[0m: Command \"E:\\SoftWare\\Visual Studio\\VC\\Tools\\MSVC\\14.33.31629\\bin\\HostX86\\x64\\link.exe /nologo /INCREMENTAL:NO /LTCG /DLL /MANIFEST:EMBED,ID=2 /MANIFESTUAC:NO /LIBPATH:e:\\SoftWare\\anaconda3\\envs\\CS303\\libs /LIBPATH:e:\\SoftWare\\anaconda3\\envs\\CS303 /LIBPATH:e:\\SoftWare\\anaconda3\\envs\\CS303\\PCbuild\\amd64 /LIBPATH:e:\\\\SoftWare\\\\anaconda3\\\\envs\\\\CS303\\\\lib\\\\site-packages\\\\numpy\\\\core\\\\lib /LIBPATH:E:\\SoftWare\\Visual Studio\\VC\\Tools\\MSVC\\14.33.31629\\ATLMFC\\lib\\x64 /LIBPATH:E:\\SoftWare\\Visual Studio\\VC\\Tools\\MSVC\\14.33.31629\\lib\\x64 /LIBPATH:C:\\Program Files (x86)\\Windows Kits\\NETFXSDK\\4.8\\lib\\um\\x64 /LIBPATH:D:\\Windows Kits\\10\\lib\\10.0.19041.0\\ucrt\\x64 /LIBPATH:D:\\Windows Kits\\10\\\\lib\\10.0.19041.0\\\\um\\x64 python39.lib msvcrt.lib npymath.lib /EXPORT:PyInit_my_module C:\\Users\\lenovo\\AppData\\Local\\Temp\\pycc-build-my_module-gb0bquyu\\my_module.cp39-win_amd64.o C:\\Users\\lenovo\\AppData\\Local\\Temp\\pycc-build-my_module-gb0bquyu\\SoftWare\\anaconda3\\envs\\CS303\\lib\\site-packages\\numba\\pycc\\modulemixin.obj C:\\Users\\lenovo\\AppData\\Local\\Temp\\pycc-build-my_module-gb0bquyu\\SoftWare\\anaconda3\\envs\\CS303\\lib\\site-packages\\numba\\cext\\dictobject.obj C:\\Users\\lenovo\\AppData\\Local\\Temp\\pycc-build-my_module-gb0bquyu\\SoftWare\\anaconda3\\envs\\CS303\\lib\\site-packages\\numba\\cext\\listobject.obj C:\\Users\\lenovo\\AppData\\Local\\Temp\\pycc-build-my_module-gb0bquyu\\SoftWare\\anaconda3\\envs\\CS303\\lib\\site-packages\\numba\\cext\\utils.obj C:\\Users\\lenovo\\AppData\\Local\\Temp\\pycc-build-my_module-gb0bquyu\\SoftWare\\anaconda3\\envs\\CS303\\lib\\site-packages\\numba\\core\\runtime\\nrt.obj /OUT:my_module.cp39-win_amd64.pyd /IMPLIB:C:\\Users\\lenovo\\AppData\\Local\\Temp\\pycc-build-my_module-gb0bquyu\\my_module.cp39-win_amd64.lib\" failed with exit status 1104",
      "\nDuring handling of the above exception, another exception occurred:\n",
      "\u001b[1;31mLinkError\u001b[0m                                 Traceback (most recent call last)",
      "Cell \u001b[1;32mIn [3], line 30\u001b[0m\n\u001b[0;32m     24\u001b[0m     \u001b[39mreturn\u001b[39;00m a \u001b[39m*\u001b[39m\u001b[39m*\u001b[39m \u001b[39m2\u001b[39m\n\u001b[0;32m     28\u001b[0m \u001b[39mif\u001b[39;00m \u001b[39m__name__\u001b[39m \u001b[39m==\u001b[39m \u001b[39m\"\u001b[39m\u001b[39m__main__\u001b[39m\u001b[39m\"\u001b[39m:          \u001b[39m# 生成名为的扩展模块 my_module.pyd\u001b[39;00m\n\u001b[1;32m---> 30\u001b[0m     cc\u001b[39m.\u001b[39mcompile()\n\u001b[0;32m     34\u001b[0m \u001b[39m# 测试：\u001b[39;00m\n\u001b[0;32m     36\u001b[0m \u001b[39mimport\u001b[39;00m \u001b[39mmy_module\u001b[39;00m\n",
      "File \u001b[1;32me:\\SoftWare\\anaconda3\\envs\\CS303\\lib\\site-packages\\numba\\core\\compiler_lock.py:35\u001b[0m, in \u001b[0;36m_CompilerLock.__call__.<locals>._acquire_compile_lock\u001b[1;34m(*args, **kwargs)\u001b[0m\n\u001b[0;32m     32\u001b[0m \u001b[39m@functools\u001b[39m\u001b[39m.\u001b[39mwraps(func)\n\u001b[0;32m     33\u001b[0m \u001b[39mdef\u001b[39;00m \u001b[39m_acquire_compile_lock\u001b[39m(\u001b[39m*\u001b[39margs, \u001b[39m*\u001b[39m\u001b[39m*\u001b[39mkwargs):\n\u001b[0;32m     34\u001b[0m     \u001b[39mwith\u001b[39;00m \u001b[39mself\u001b[39m:\n\u001b[1;32m---> 35\u001b[0m         \u001b[39mreturn\u001b[39;00m func(\u001b[39m*\u001b[39margs, \u001b[39m*\u001b[39m\u001b[39m*\u001b[39mkwargs)\n",
      "File \u001b[1;32me:\\SoftWare\\anaconda3\\envs\\CS303\\lib\\site-packages\\numba\\pycc\\cc.py:228\u001b[0m, in \u001b[0;36mCC.compile\u001b[1;34m(self)\u001b[0m\n\u001b[0;32m    226\u001b[0m libraries \u001b[39m=\u001b[39m \u001b[39mself\u001b[39m\u001b[39m.\u001b[39m_toolchain\u001b[39m.\u001b[39mget_python_libraries()\n\u001b[0;32m    227\u001b[0m library_dirs \u001b[39m=\u001b[39m \u001b[39mself\u001b[39m\u001b[39m.\u001b[39m_toolchain\u001b[39m.\u001b[39mget_python_library_dirs()\n\u001b[1;32m--> 228\u001b[0m \u001b[39mself\u001b[39;49m\u001b[39m.\u001b[39;49m_toolchain\u001b[39m.\u001b[39;49mlink_shared(output_dll, objects,\n\u001b[0;32m    229\u001b[0m                             libraries, library_dirs,\n\u001b[0;32m    230\u001b[0m                             export_symbols\u001b[39m=\u001b[39;49mdll_exports,\n\u001b[0;32m    231\u001b[0m                             extra_ldflags\u001b[39m=\u001b[39;49mextra_ldflags)\n\u001b[0;32m    233\u001b[0m shutil\u001b[39m.\u001b[39mrmtree(build_dir)\n",
      "File \u001b[1;32me:\\SoftWare\\anaconda3\\envs\\CS303\\lib\\site-packages\\numba\\pycc\\platform.py:153\u001b[0m, in \u001b[0;36mToolchain.link_shared\u001b[1;34m(self, output, objects, libraries, library_dirs, export_symbols, extra_ldflags)\u001b[0m\n\u001b[0;32m    148\u001b[0m \u001b[39m\"\"\"\u001b[39;00m\n\u001b[0;32m    149\u001b[0m \u001b[39mCreate a shared library *output* linking the given *objects*\u001b[39;00m\n\u001b[0;32m    150\u001b[0m \u001b[39mand *libraries* (all strings).\u001b[39;00m\n\u001b[0;32m    151\u001b[0m \u001b[39m\"\"\"\u001b[39;00m\n\u001b[0;32m    152\u001b[0m output_dir, output_filename \u001b[39m=\u001b[39m os\u001b[39m.\u001b[39mpath\u001b[39m.\u001b[39msplit(output)\n\u001b[1;32m--> 153\u001b[0m \u001b[39mself\u001b[39;49m\u001b[39m.\u001b[39;49m_compiler\u001b[39m.\u001b[39;49mlink(CCompiler\u001b[39m.\u001b[39;49mSHARED_OBJECT, objects,\n\u001b[0;32m    154\u001b[0m                     output_filename, output_dir,\n\u001b[0;32m    155\u001b[0m                     libraries, library_dirs,\n\u001b[0;32m    156\u001b[0m                     export_symbols\u001b[39m=\u001b[39;49mexport_symbols,\n\u001b[0;32m    157\u001b[0m                     extra_preargs\u001b[39m=\u001b[39;49mextra_ldflags)\n",
      "File \u001b[1;32me:\\SoftWare\\anaconda3\\envs\\CS303\\lib\\site-packages\\setuptools\\_distutils\\_msvccompiler.py:521\u001b[0m, in \u001b[0;36mMSVCCompiler.link\u001b[1;34m(self, target_desc, objects, output_filename, output_dir, libraries, library_dirs, runtime_library_dirs, export_symbols, debug, extra_preargs, extra_postargs, build_temp, target_lang)\u001b[0m\n\u001b[0;32m    519\u001b[0m         \u001b[39mself\u001b[39m\u001b[39m.\u001b[39mspawn([\u001b[39mself\u001b[39m\u001b[39m.\u001b[39mlinker] \u001b[39m+\u001b[39m ld_args)\n\u001b[0;32m    520\u001b[0m     \u001b[39mexcept\u001b[39;00m DistutilsExecError \u001b[39mas\u001b[39;00m msg:\n\u001b[1;32m--> 521\u001b[0m         \u001b[39mraise\u001b[39;00m LinkError(msg)\n\u001b[0;32m    522\u001b[0m \u001b[39melse\u001b[39;00m:\n\u001b[0;32m    523\u001b[0m     log\u001b[39m.\u001b[39mdebug(\u001b[39m\"\u001b[39m\u001b[39mskipping \u001b[39m\u001b[39m%s\u001b[39;00m\u001b[39m (up-to-date)\u001b[39m\u001b[39m\"\u001b[39m, output_filename)\n",
      "\u001b[1;31mLinkError\u001b[0m: Command \"E:\\SoftWare\\Visual Studio\\VC\\Tools\\MSVC\\14.33.31629\\bin\\HostX86\\x64\\link.exe /nologo /INCREMENTAL:NO /LTCG /DLL /MANIFEST:EMBED,ID=2 /MANIFESTUAC:NO /LIBPATH:e:\\SoftWare\\anaconda3\\envs\\CS303\\libs /LIBPATH:e:\\SoftWare\\anaconda3\\envs\\CS303 /LIBPATH:e:\\SoftWare\\anaconda3\\envs\\CS303\\PCbuild\\amd64 /LIBPATH:e:\\\\SoftWare\\\\anaconda3\\\\envs\\\\CS303\\\\lib\\\\site-packages\\\\numpy\\\\core\\\\lib /LIBPATH:E:\\SoftWare\\Visual Studio\\VC\\Tools\\MSVC\\14.33.31629\\ATLMFC\\lib\\x64 /LIBPATH:E:\\SoftWare\\Visual Studio\\VC\\Tools\\MSVC\\14.33.31629\\lib\\x64 /LIBPATH:C:\\Program Files (x86)\\Windows Kits\\NETFXSDK\\4.8\\lib\\um\\x64 /LIBPATH:D:\\Windows Kits\\10\\lib\\10.0.19041.0\\ucrt\\x64 /LIBPATH:D:\\Windows Kits\\10\\\\lib\\10.0.19041.0\\\\um\\x64 python39.lib msvcrt.lib npymath.lib /EXPORT:PyInit_my_module C:\\Users\\lenovo\\AppData\\Local\\Temp\\pycc-build-my_module-gb0bquyu\\my_module.cp39-win_amd64.o C:\\Users\\lenovo\\AppData\\Local\\Temp\\pycc-build-my_module-gb0bquyu\\SoftWare\\anaconda3\\envs\\CS303\\lib\\site-packages\\numba\\pycc\\modulemixin.obj C:\\Users\\lenovo\\AppData\\Local\\Temp\\pycc-build-my_module-gb0bquyu\\SoftWare\\anaconda3\\envs\\CS303\\lib\\site-packages\\numba\\cext\\dictobject.obj C:\\Users\\lenovo\\AppData\\Local\\Temp\\pycc-build-my_module-gb0bquyu\\SoftWare\\anaconda3\\envs\\CS303\\lib\\site-packages\\numba\\cext\\listobject.obj C:\\Users\\lenovo\\AppData\\Local\\Temp\\pycc-build-my_module-gb0bquyu\\SoftWare\\anaconda3\\envs\\CS303\\lib\\site-packages\\numba\\cext\\utils.obj C:\\Users\\lenovo\\AppData\\Local\\Temp\\pycc-build-my_module-gb0bquyu\\SoftWare\\anaconda3\\envs\\CS303\\lib\\site-packages\\numba\\core\\runtime\\nrt.obj /OUT:my_module.cp39-win_amd64.pyd /IMPLIB:C:\\Users\\lenovo\\AppData\\Local\\Temp\\pycc-build-my_module-gb0bquyu\\my_module.cp39-win_amd64.lib\" failed with exit status 1104"
     ]
    }
   ],
   "source": [
    "from numba.pycc import CC\n",
    " \n",
    " \n",
    "cc = CC('my_module')\n",
    " \n",
    "cc.verbose = False                   # 取消注释以下行,以打印出编译步骤\n",
    " \n",
    " \n",
    " \n",
    "@cc.export('multf', 'f8(f8, f8)')   # 双精度浮点\n",
    " \n",
    "@cc.export('multi', 'i4(i4, i4)')   # 32位整数\n",
    " \n",
    "def mult(a, b):\n",
    " \n",
    "    return a * b\n",
    " \n",
    " \n",
    " \n",
    "@cc.export('square', 'f8(f8)')\n",
    " \n",
    "def square(a):\n",
    " \n",
    "    return a ** 2\n",
    " \n",
    " \n",
    " \n",
    "if __name__ == \"__main__\":          # 生成名为的扩展模块 my_module.pyd\n",
    " \n",
    "    cc.compile()\n",
    " \n",
    " \n",
    " \n",
    "# 测试：\n",
    " \n",
    "import my_module\n",
    " \n",
    "my_module.multi(3, 4)#12\n",
    " \n",
    "my_module.square(1.414)\n"
   ]
  }
 ],
 "metadata": {
  "kernelspec": {
   "display_name": "Python 3.9.13 ('CS303')",
   "language": "python",
   "name": "python3"
  },
  "language_info": {
   "codemirror_mode": {
    "name": "ipython",
    "version": 3
   },
   "file_extension": ".py",
   "mimetype": "text/x-python",
   "name": "python",
   "nbconvert_exporter": "python",
   "pygments_lexer": "ipython3",
   "version": "3.9.13"
  },
  "orig_nbformat": 4,
  "vscode": {
   "interpreter": {
    "hash": "c36d0c9cad493c181039b53ce29cfc04b8d0b450cb3e22d55a109f1b4be1be2e"
   }
  }
 },
 "nbformat": 4,
 "nbformat_minor": 2
}
