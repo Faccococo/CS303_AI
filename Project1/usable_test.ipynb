{
 "cells": [
  {
   "cell_type": "code",
   "execution_count": 79,
   "metadata": {},
   "outputs": [],
   "source": [
    "import numpy as np\n",
    "import random\n",
    "import time\n",
    "\n",
    "COLOR_BLACK = -1\n",
    "COLOR_WHITE = 1\n",
    "COLOR_NONE = 0\n",
    "COLOR_USABLE = 2\n",
    "random.seed(0)\n",
    "# don't change the class name"
   ]
  },
  {
   "cell_type": "code",
   "execution_count": 80,
   "metadata": {},
   "outputs": [],
   "source": [
    "class AI(object):\n",
    "    # chessboard_size, color, time_out passed from agent\n",
    "    def __init__(self, chessboard_size, color, time_out):\n",
    "        self.chessboard_size = chessboard_size\n",
    "        # You are white or black\n",
    "        self.color = color\n",
    "        # the max time you should use, your algorithm's run time must not exceed the time limit.\n",
    "        self.time_out = time_out\n",
    "        # You need to add your decision to your candidate_list. The system will get the end of your candidate_list as your decision.\n",
    "        self.candidate_list = []\n",
    "        # The input is the current chessboard. Chessboard is a numpy array.\n",
    "\n",
    "    def go(self, chessboard):\n",
    "\n",
    "        selfChess = 1 if self.color == 1 else -1\n",
    "        enemyChess = 1 if self.color == -1 else -1\n",
    "\n",
    "        # def find_test(self, chessboard, position):\n",
    "        #     a = []\n",
    "        #     a.append(position)\n",
    "        #     print (a) \n",
    "        #     return a\n",
    "\n",
    "        def find(self, chessboard, position):  # 输出因为该位置的棋子可下的所有位置\n",
    "            # x = [position[0]]\n",
    "            # y = [position[1]]\n",
    "            # return  list(zip(x, y))\n",
    "\n",
    "            # print(position[0], position[1])\n",
    "\n",
    "            x = position[0]\n",
    "            y = position[1]\n",
    "\n",
    "            xPossible = []\n",
    "            yPossible = []\n",
    "\n",
    "            i = x\n",
    "            j = y\n",
    "            cnt = 0\n",
    "\n",
    "            def move(i, j, act):\n",
    "                if act == 0:\n",
    "                    return i, j + 1  # right\n",
    "                elif act == 1:\n",
    "                    return i, j - 1  # left\n",
    "                elif act == 2:\n",
    "                    return i - 1, j  # up\n",
    "                elif act == 3:\n",
    "                    return i + 1, j  # down\n",
    "                elif act == 4:\n",
    "                    return i - 1, j + 1  # up right\n",
    "                elif act == 5:\n",
    "                    return i + 1, j + 1  # down right\n",
    "                elif act == 6:\n",
    "                    return i - 1, j - 1  # up left\n",
    "                elif act == 7:\n",
    "                    return i + 1, j - 1  # down left\n",
    "\n",
    "            def inSize(self, i, j):\n",
    "                return 0 <= i < self.chessboard_size and 0 <= j < self.chessboard_size\n",
    "            \n",
    "            act = 0\n",
    "            for act in range(8):\n",
    "                i = x\n",
    "                j = y\n",
    "                cnt = 0\n",
    "                i, j = move(i, j, act)\n",
    "                while inSize(self, i, j):\n",
    "                    if chessboard[i][j] != enemyChess:\n",
    "                        break\n",
    "                    i, j = move(i, j, act)\n",
    "                    cnt += 1\n",
    "                if not (inSize(self, i, j)):\n",
    "                    continue\n",
    "                else:\n",
    "                    if cnt > 0:\n",
    "                        xPossible.append(i)\n",
    "                        yPossible.append(j)\n",
    "                \n",
    "\n",
    "            return list(zip(xPossible, yPossible))\n",
    "\n",
    "        def update(chessboard):  # 返回一个np.array,其中可用格子对应的值为2\n",
    "            idx = chessboard.copy()\n",
    "            myChess = np.where(chessboard == selfChess)\n",
    "            myChess = list(zip(myChess[0], myChess[1]))\n",
    "            for position in myChess:\n",
    "                usableList = find(self, chessboard, position)\n",
    "                for gridPos in usableList:\n",
    "                    if idx[gridPos[0]][gridPos[1]] == 0:\n",
    "                        idx[gridPos[0]][gridPos[1]] = 2\n",
    "\n",
    "            return idx\n",
    "\n",
    "        self.candidate_list.clear()\n",
    "\n",
    "        idx = np.where(update(chessboard) == COLOR_USABLE)\n",
    "        idx = list(zip(idx[0], idx[1]))\n",
    "\n",
    "        self.candidate_list = idx\n",
    "\n",
    "        return self.candidate_list"
   ]
  },
  {
   "cell_type": "code",
   "execution_count": 81,
   "metadata": {},
   "outputs": [
    {
     "data": {
      "text/plain": [
       "[(1, 3), (2, 4), (3, 1), (3, 5), (5, 1), (5, 5)]"
      ]
     },
     "execution_count": 81,
     "metadata": {},
     "output_type": "execute_result"
    }
   ],
   "source": [
    "# chessboard = np.array([ [0, 0, 0, 0, 0, 0, 0, 0],\n",
    "#                         [0, 0, 0, 0, 0, 0, 0, 0],\n",
    "#                         [0, 0, 0, 0, 0, 0, 0, 0],\n",
    "#                         [0, 0, 0, 0, 0, 0, 0, 0],\n",
    "#                         [0, 0, 0, 0, 0, 0, 0, 0],\n",
    "#                         [0, 0, 0, 0, 0, 0, 0, 0],\n",
    "#                         [0, 0, 0, 0, 0, 0, 0, 0],\n",
    "#                         [0, 0, 0, 0, 0, 0, 0, 0]])\n",
    "\n",
    "# chessboard = np.array([ [0, 0, 0, 0, 0, 0, 0, 0],\n",
    "#                         [0, 0, 0, 0, 0, 0, 0, 0],\n",
    "#                         [0, 0, 0, 0, 0, 0, 0, 0],\n",
    "#                         [0, 0, 0, 0, 0, 0, 0, 0],\n",
    "#                         [0, 0, 0, 0, 0, 0, 0, 0],\n",
    "#                         [0, 0, 0, 0, 0, 0, 0, 0],\n",
    "#                         [0, 0, 0, 0, 0, 0, 0, 0],\n",
    "#                         [0, 0, 0, 0, 0, 0, 0, 0]])\n",
    "\n",
    "chessboard = np.array([[0,0,0,0,0,0,0,0],[0,0,0,0,0,0,0,0],[0,0,1,-1,0,0,0,0],[0,0,0,1,-1,0,0,0],[0,0,-1,-1,-1,0,0,0],[0,0,0,1,-1,0,0,0],[0,0,0,0,0,0,0,0],[0,0,0,0,0,0,0,0]])\n",
    "\n",
    "# chessboard = np.array(\n",
    "ai = AI(8,1,5)\n",
    "ai.go(chessboard)\n"
   ]
  },
  {
   "cell_type": "code",
   "execution_count": 10,
   "metadata": {},
   "outputs": [
    {
     "data": {
      "text/plain": [
       "(8, 2)"
      ]
     },
     "execution_count": 10,
     "metadata": {},
     "output_type": "execute_result"
    }
   ],
   "source": [
    "from threading import Thread\n",
    "\n",
    "class MyThread(Thread):\n",
    "    def __init__(self, func, args):\n",
    "        '''\n",
    "        :param func: 可调用的对象\n",
    "        :param args: 可调用对象的参数\n",
    "        '''\n",
    "        Thread.__init__(self)\n",
    "        self.func = func\n",
    "        self.args = args\n",
    "        self.result = None\n",
    "\n",
    "    def run(self):\n",
    "        self.result = self.func(*self.args)\n",
    "\n",
    "    def getResult(self):\n",
    "        return self.result\n",
    "\n",
    "\n",
    "def add(a, b):\n",
    "    return a + b\n",
    "def minus(a, b):\n",
    "    return a - b\n",
    "a = 5\n",
    "b = 3\n",
    "c = 0\n",
    "d = 0\n",
    "\n",
    "c = MyThread(add, (a, b) )\n",
    "d = MyThread(minus, (a, b) )\n",
    "# except:\n",
    "#    print (\"Error: unable to start thread\")\n",
    "c.start()\n",
    "d.start()\n",
    "c.join()\n",
    "d.join()\n",
    "c.getResult(), d.getResult()\n",
    "\n"
   ]
  },
  {
   "cell_type": "code",
   "execution_count": 14,
   "metadata": {},
   "outputs": [
    {
     "data": {
      "text/plain": [
       "1"
      ]
     },
     "execution_count": 14,
     "metadata": {},
     "output_type": "execute_result"
    }
   ],
   "source": [
    "def test(a, b):\n",
    "    c = 1\n",
    "    def add():\n",
    "        return c + a - b\n",
    "    return add()\n",
    "test(2,2) \n",
    "    \n"
   ]
  },
  {
   "cell_type": "code",
   "execution_count": null,
   "metadata": {},
   "outputs": [],
   "source": [
    "#             t1 = MyThread(getScore_diff, ())\n",
    "#             t2 = MyThread(getScore_chessChange, ())\n",
    "#             t3 = MyThread(getScore_chessValue, ())\n",
    "#             t1.start()\n",
    "#             t2.start()\n",
    "#             t3.start()\n",
    "#             t1.join()\n",
    "#             t2.join()\n",
    "#             t3.join()\n",
    "#             diff = t1.getResult()\n",
    "#             chessChange = t2.getResult()\n",
    "#             chessValue = t2.getResult()\n",
    "#             return w1 * diff + w2 * chessChange + w3 * chessValue"
   ]
  },
  {
   "cell_type": "code",
   "execution_count": 16,
   "metadata": {},
   "outputs": [
    {
     "data": {
      "text/plain": [
       "(3, -1)"
      ]
     },
     "execution_count": 16,
     "metadata": {},
     "output_type": "execute_result"
    }
   ],
   "source": [
    "from asyncio.windows_events import NULL\n",
    "\n",
    "\n",
    "# A = np.zeros((5,5))\n",
    "# a = (0,0)\n",
    "# A[a] = 1\n",
    "# A\n",
    "\n",
    "def test(a, b):\n",
    "    c = a + b\n",
    "    d = a - b\n",
    "    e = (c, d)\n",
    "    return a, b, e\n",
    "test(1,2)[2]\n"
   ]
  },
  {
   "cell_type": "code",
   "execution_count": 6,
   "metadata": {},
   "outputs": [
    {
     "data": {
      "text/plain": [
       "2"
      ]
     },
     "execution_count": 6,
     "metadata": {},
     "output_type": "execute_result"
    }
   ],
   "source": [
    "from threading import Thread\n",
    "class MyThread(Thread):\n",
    "    #线程函数来自https://zhuanlan.zhihu.com/p/91601448\n",
    "    def __init__(self, func, args):\n",
    "        '''\n",
    "        :param func: 可调用的对象\n",
    "        :param args: 可调用对象的参数\n",
    "        '''\n",
    "        Thread.__init__(self)\n",
    "        self.func = func\n",
    "        self.args = args\n",
    "        self.result = None\n",
    "\n",
    "    def run(self):\n",
    "        self.result = self.func(*self.args)\n",
    "\n",
    "    def getResult(self):\n",
    "        return self.result\n",
    "\n",
    "def getScore_chessboard(chessboard):\n",
    "\n",
    "        w1 = 1\n",
    "\n",
    "        chessboard_size = 8\n",
    "        \n",
    "        def getScore_diff():\n",
    "            selfCount = 0\n",
    "            enemyCount = 0\n",
    "            for i in range(chessboard_size):\n",
    "                for j in range(chessboard_size):\n",
    "                    if chessboard[i, j] == 1:\n",
    "                        selfCount += 1\n",
    "                    if chessboard[i, j] == -1:\n",
    "                        enemyCount += 1\n",
    "            return selfCount - enemyCount\n",
    "\n",
    "        t1 = MyThread(getScore_diff, ())\n",
    "        t1.start()\n",
    "        t1.join()\n",
    "        diff = t1.getResult()\n",
    "\n",
    "        return w1 * diff\n",
    "\n",
    "import numpy as np\n",
    "chessboard = np.array([ [0, 0, 0, 0, 0, 0, 0, 0],\n",
    "                        [0, 0, 0, 0, 0, 0, 0, 0],\n",
    "                        [0, 0, 0, 0, 0, 0, 0, 0],\n",
    "                        [0, 0, 1, 0, 1, 0, 0, 0],\n",
    "                        [0, 0, 0, 1, 0, 0, 0, 0],\n",
    "                        [0, 0, -1, 0, 0, 0, 0, 0],\n",
    "                        [0, 0, 0, 0, 0, 0, 0, 0],\n",
    "                        [0, 0, 0, 0, 0, 0, 0, 0]])\n",
    "\n",
    "def getScore_step(chessboard, point, current_color):\n",
    "\n",
    "    enemyColor = 0 - current_color\n",
    "\n",
    "    chessboard_score = np.array([   [500,-25, 10,  5,  5, 10,-25,500],\n",
    "                                    [-25,-45,  1,  1,  1,  1,-45,-25],\n",
    "                                    [ 10,  1,  3,  2,  2,  3,  1, 10],\n",
    "                                    [  5,  1,  2,  1,  1,  2,  1,  5],\n",
    "                                    [  5,  1,  2,  1,  1,  2,  1,  5],\n",
    "                                    [ 10,  1,  3,  2,  2,  3,  1, 10],\n",
    "                                    [-25,-45,  1,  1,  1,  1,-45,-25],\n",
    "                                    [500,-25, 10,  5,  5, 10,-25,500]  ])\n",
    "\n",
    "    def getScore_chessValue():\n",
    "        return 0 - chessboard_score[point[0], point[1]]\n",
    "\n",
    "    def getScore_chessChange():\n",
    "        \n",
    "        return 0\n",
    "\n",
    "    #Weight\n",
    "    w1 = 1\n",
    "    w2 = 1\n",
    "\n",
    "    t1 = MyThread(getScore_chessValue, ())\n",
    "    t2 = MyThread(getScore_chessChange, ())\n",
    "    t1.start()\n",
    "    t2.start()\n",
    "    t1.join()\n",
    "    t2.join()\n",
    "    chessValue = t1.getResult()\n",
    "    chessChange = t2.getResult()\n",
    "\n",
    "    return w1 * chessValue + w2 * chessChange\n",
    "\n",
    "getScore_chessboard(chessboard)"
   ]
  }
 ],
 "metadata": {
  "kernelspec": {
   "display_name": "Python 3.9.12 ('base')",
   "language": "python",
   "name": "python3"
  },
  "language_info": {
   "codemirror_mode": {
    "name": "ipython",
    "version": 3
   },
   "file_extension": ".py",
   "mimetype": "text/x-python",
   "name": "python",
   "nbconvert_exporter": "python",
   "pygments_lexer": "ipython3",
   "version": "3.9.12"
  },
  "orig_nbformat": 4,
  "vscode": {
   "interpreter": {
    "hash": "9cc3e8438eca74874e19e7b4d45f101f2df8b6a84936bd45a4455d5fbb915a84"
   }
  }
 },
 "nbformat": 4,
 "nbformat_minor": 2
}
