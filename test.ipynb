{
 "cells": [
  {
   "cell_type": "code",
   "execution_count": 18,
   "metadata": {},
   "outputs": [
    {
     "data": {
      "text/plain": [
       "array([[1., 0., 0.]])"
      ]
     },
     "execution_count": 18,
     "metadata": {},
     "output_type": "execute_result"
    }
   ],
   "source": [
    "import numpy as np\n",
    "def change(A):\n",
    "    A[0, 0] = 1\n",
    "A = np.zeros((1, 3))\n",
    "change(A)\n",
    "A"
   ]
  },
  {
   "cell_type": "code",
   "execution_count": 14,
   "metadata": {},
   "outputs": [
    {
     "data": {
      "text/plain": [
       "'[[ 0,0,0,0,0,0,0,0],[ 0,1,0,0,0,0,1,0],[ 0,0,1,0,0,1,0,0],[ 0,0,0,1,1,0,0,0],[ 0,0,0,-1,-1,0,0,0],[ 0,0,-1,0,0,-1,0,0],[ 0,-1,0,0,0,0,-1,0],[ 0,0,0,0,0,0,0,0]]'"
      ]
     },
     "execution_count": 14,
     "metadata": {},
     "output_type": "execute_result"
    }
   ],
   "source": [
    "A =\"[[ 0  0  0  0  0  0  0  0]\\\n",
    "  [ 0  1  0  0  0  0  1  0]\\\n",
    "  [ 0  0  1  0  0  1  0  0]\\\n",
    "  [ 0  0  0  1  1  0  0  0]\\\n",
    "  [ 0  0  0  -1  -1  0  0  0]\\\n",
    "  [ 0  0  -1  0  0  -1  0  0]\\\n",
    "  [ 0  -1  0  0  0  0  -1  0]\\\n",
    "  [ 0  0  0  0  0  0  0  0]]\"\n",
    "\n",
    "\n",
    "A = A.replace(\"  \",\",\")\n",
    "A"
   ]
  }
 ],
 "metadata": {
  "kernelspec": {
   "display_name": "Python 3.9.13 ('CS303')",
   "language": "python",
   "name": "python3"
  },
  "language_info": {
   "codemirror_mode": {
    "name": "ipython",
    "version": 3
   },
   "file_extension": ".py",
   "mimetype": "text/x-python",
   "name": "python",
   "nbconvert_exporter": "python",
   "pygments_lexer": "ipython3",
   "version": "3.9.13"
  },
  "orig_nbformat": 4,
  "vscode": {
   "interpreter": {
    "hash": "c36d0c9cad493c181039b53ce29cfc04b8d0b450cb3e22d55a109f1b4be1be2e"
   }
  }
 },
 "nbformat": 4,
 "nbformat_minor": 2
}
