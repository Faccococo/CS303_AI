{
 "cells": [
  {
   "cell_type": "code",
   "execution_count": 10,
   "metadata": {},
   "outputs": [
    {
     "name": "stdout",
     "output_type": "stream",
     "text": [
      "[(0, 2), (1, 0), (2, 1), (3, 4), (4, 6), (5, 7), (6, 3), (7, 5)]\n"
     ]
    },
    {
     "data": {
      "text/plain": [
       "[(0, 0), (1, 2), (2, 1), (3, 4), (4, 6), (5, 7), (6, 3), (7, 5)]"
      ]
     },
     "execution_count": 10,
     "metadata": {},
     "output_type": "execute_result"
    }
   ],
   "source": [
    "import random\n",
    "action_stack = []\n",
    "init_pos = list(range(8))\n",
    "for i in range(8):\n",
    "    a = random.randint(0,8)\n",
    "    while a not in init_pos:\n",
    "        a = random.randint(0,8)\n",
    "    init_pos.remove(a)\n",
    "    action_stack.append((i, a))\n",
    "print(action_stack)\n",
    "def exchange(action_stack, i, j):\n",
    "    action_stack_copy = action_stack.copy()\n",
    "    queen1 = action_stack_copy[i]\n",
    "    queen2 = action_stack_copy[j]\n",
    "    action_stack_copy[i], action_stack_copy[j] = (queen1[0], queen2[1]),(queen2[0], queen1[1])\n",
    "    return action_stack_copy\n",
    "action_stack = exchange(action_stack, 0, 1)\n",
    "action_stack"
   ]
  }
 ],
 "metadata": {
  "kernelspec": {
   "display_name": "Python 3.8.10 64-bit",
   "language": "python",
   "name": "python3"
  },
  "language_info": {
   "codemirror_mode": {
    "name": "ipython",
    "version": 3
   },
   "file_extension": ".py",
   "mimetype": "text/x-python",
   "name": "python",
   "nbconvert_exporter": "python",
   "pygments_lexer": "ipython3",
   "version": "3.8.10"
  },
  "orig_nbformat": 4,
  "vscode": {
   "interpreter": {
    "hash": "916dbcbb3f70747c44a77c7bcd40155683ae19c65e1c03b4aa3499c5328201f1"
   }
  }
 },
 "nbformat": 4,
 "nbformat_minor": 2
}
